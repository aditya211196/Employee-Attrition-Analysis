{
 "cells": [
  {
   "cell_type": "code",
   "execution_count": 1,
   "id": "f56c4ef8",
   "metadata": {},
   "outputs": [],
   "source": [
    "import pandas as pd\n",
    "import numpy as np\n",
    "import seaborn as sns"
   ]
  },
  {
   "cell_type": "code",
   "execution_count": 2,
   "id": "2b261a16",
   "metadata": {},
   "outputs": [],
   "source": [
    "df=pd.read_csv('Attrition data.csv')"
   ]
  },
  {
   "cell_type": "markdown",
   "id": "b6975b31",
   "metadata": {},
   "source": [
    "# Preliminary Analysis"
   ]
  },
  {
   "cell_type": "code",
   "execution_count": 3,
   "id": "3cb0ed72",
   "metadata": {},
   "outputs": [
    {
     "data": {
      "text/plain": [
       "(4410, 29)"
      ]
     },
     "execution_count": 3,
     "metadata": {},
     "output_type": "execute_result"
    }
   ],
   "source": [
    "df.shape"
   ]
  },
  {
   "cell_type": "code",
   "execution_count": 4,
   "id": "3288baa8",
   "metadata": {},
   "outputs": [
    {
     "data": {
      "text/html": [
       "<div>\n",
       "<style scoped>\n",
       "    .dataframe tbody tr th:only-of-type {\n",
       "        vertical-align: middle;\n",
       "    }\n",
       "\n",
       "    .dataframe tbody tr th {\n",
       "        vertical-align: top;\n",
       "    }\n",
       "\n",
       "    .dataframe thead th {\n",
       "        text-align: right;\n",
       "    }\n",
       "</style>\n",
       "<table border=\"1\" class=\"dataframe\">\n",
       "  <thead>\n",
       "    <tr style=\"text-align: right;\">\n",
       "      <th></th>\n",
       "      <th>EmployeeID</th>\n",
       "      <th>Age</th>\n",
       "      <th>Attrition</th>\n",
       "      <th>BusinessTravel</th>\n",
       "      <th>Department</th>\n",
       "      <th>DistanceFromHome</th>\n",
       "      <th>Education</th>\n",
       "      <th>EducationField</th>\n",
       "      <th>EmployeeCount</th>\n",
       "      <th>Gender</th>\n",
       "      <th>...</th>\n",
       "      <th>TotalWorkingYears</th>\n",
       "      <th>TrainingTimesLastYear</th>\n",
       "      <th>YearsAtCompany</th>\n",
       "      <th>YearsSinceLastPromotion</th>\n",
       "      <th>YearsWithCurrManager</th>\n",
       "      <th>EnvironmentSatisfaction</th>\n",
       "      <th>JobSatisfaction</th>\n",
       "      <th>WorkLifeBalance</th>\n",
       "      <th>JobInvolvement</th>\n",
       "      <th>PerformanceRating</th>\n",
       "    </tr>\n",
       "  </thead>\n",
       "  <tbody>\n",
       "    <tr>\n",
       "      <th>0</th>\n",
       "      <td>1</td>\n",
       "      <td>51</td>\n",
       "      <td>No</td>\n",
       "      <td>Travel_Rarely</td>\n",
       "      <td>Sales</td>\n",
       "      <td>6</td>\n",
       "      <td>2</td>\n",
       "      <td>Life Sciences</td>\n",
       "      <td>1</td>\n",
       "      <td>Female</td>\n",
       "      <td>...</td>\n",
       "      <td>1.0</td>\n",
       "      <td>6</td>\n",
       "      <td>1</td>\n",
       "      <td>0</td>\n",
       "      <td>0</td>\n",
       "      <td>3.0</td>\n",
       "      <td>4.0</td>\n",
       "      <td>2.0</td>\n",
       "      <td>3</td>\n",
       "      <td>3</td>\n",
       "    </tr>\n",
       "    <tr>\n",
       "      <th>1</th>\n",
       "      <td>2</td>\n",
       "      <td>31</td>\n",
       "      <td>Yes</td>\n",
       "      <td>Travel_Frequently</td>\n",
       "      <td>Research &amp; Development</td>\n",
       "      <td>10</td>\n",
       "      <td>1</td>\n",
       "      <td>Life Sciences</td>\n",
       "      <td>1</td>\n",
       "      <td>Female</td>\n",
       "      <td>...</td>\n",
       "      <td>6.0</td>\n",
       "      <td>3</td>\n",
       "      <td>5</td>\n",
       "      <td>1</td>\n",
       "      <td>4</td>\n",
       "      <td>3.0</td>\n",
       "      <td>2.0</td>\n",
       "      <td>4.0</td>\n",
       "      <td>2</td>\n",
       "      <td>4</td>\n",
       "    </tr>\n",
       "    <tr>\n",
       "      <th>2</th>\n",
       "      <td>3</td>\n",
       "      <td>32</td>\n",
       "      <td>No</td>\n",
       "      <td>Travel_Frequently</td>\n",
       "      <td>Research &amp; Development</td>\n",
       "      <td>17</td>\n",
       "      <td>4</td>\n",
       "      <td>Other</td>\n",
       "      <td>1</td>\n",
       "      <td>Male</td>\n",
       "      <td>...</td>\n",
       "      <td>5.0</td>\n",
       "      <td>2</td>\n",
       "      <td>5</td>\n",
       "      <td>0</td>\n",
       "      <td>3</td>\n",
       "      <td>2.0</td>\n",
       "      <td>2.0</td>\n",
       "      <td>1.0</td>\n",
       "      <td>3</td>\n",
       "      <td>3</td>\n",
       "    </tr>\n",
       "    <tr>\n",
       "      <th>3</th>\n",
       "      <td>4</td>\n",
       "      <td>38</td>\n",
       "      <td>No</td>\n",
       "      <td>Non-Travel</td>\n",
       "      <td>Research &amp; Development</td>\n",
       "      <td>2</td>\n",
       "      <td>5</td>\n",
       "      <td>Life Sciences</td>\n",
       "      <td>1</td>\n",
       "      <td>Male</td>\n",
       "      <td>...</td>\n",
       "      <td>13.0</td>\n",
       "      <td>5</td>\n",
       "      <td>8</td>\n",
       "      <td>7</td>\n",
       "      <td>5</td>\n",
       "      <td>4.0</td>\n",
       "      <td>4.0</td>\n",
       "      <td>3.0</td>\n",
       "      <td>2</td>\n",
       "      <td>3</td>\n",
       "    </tr>\n",
       "    <tr>\n",
       "      <th>4</th>\n",
       "      <td>5</td>\n",
       "      <td>32</td>\n",
       "      <td>No</td>\n",
       "      <td>Travel_Rarely</td>\n",
       "      <td>Research &amp; Development</td>\n",
       "      <td>10</td>\n",
       "      <td>1</td>\n",
       "      <td>Medical</td>\n",
       "      <td>1</td>\n",
       "      <td>Male</td>\n",
       "      <td>...</td>\n",
       "      <td>9.0</td>\n",
       "      <td>2</td>\n",
       "      <td>6</td>\n",
       "      <td>0</td>\n",
       "      <td>4</td>\n",
       "      <td>4.0</td>\n",
       "      <td>1.0</td>\n",
       "      <td>3.0</td>\n",
       "      <td>3</td>\n",
       "      <td>3</td>\n",
       "    </tr>\n",
       "  </tbody>\n",
       "</table>\n",
       "<p>5 rows × 29 columns</p>\n",
       "</div>"
      ],
      "text/plain": [
       "   EmployeeID  Age Attrition     BusinessTravel              Department  \\\n",
       "0           1   51        No      Travel_Rarely                   Sales   \n",
       "1           2   31       Yes  Travel_Frequently  Research & Development   \n",
       "2           3   32        No  Travel_Frequently  Research & Development   \n",
       "3           4   38        No         Non-Travel  Research & Development   \n",
       "4           5   32        No      Travel_Rarely  Research & Development   \n",
       "\n",
       "   DistanceFromHome  Education EducationField  EmployeeCount  Gender  ...  \\\n",
       "0                 6          2  Life Sciences              1  Female  ...   \n",
       "1                10          1  Life Sciences              1  Female  ...   \n",
       "2                17          4          Other              1    Male  ...   \n",
       "3                 2          5  Life Sciences              1    Male  ...   \n",
       "4                10          1        Medical              1    Male  ...   \n",
       "\n",
       "   TotalWorkingYears TrainingTimesLastYear YearsAtCompany  \\\n",
       "0                1.0                     6              1   \n",
       "1                6.0                     3              5   \n",
       "2                5.0                     2              5   \n",
       "3               13.0                     5              8   \n",
       "4                9.0                     2              6   \n",
       "\n",
       "   YearsSinceLastPromotion  YearsWithCurrManager EnvironmentSatisfaction  \\\n",
       "0                        0                     0                     3.0   \n",
       "1                        1                     4                     3.0   \n",
       "2                        0                     3                     2.0   \n",
       "3                        7                     5                     4.0   \n",
       "4                        0                     4                     4.0   \n",
       "\n",
       "   JobSatisfaction  WorkLifeBalance  JobInvolvement  PerformanceRating  \n",
       "0              4.0              2.0               3                  3  \n",
       "1              2.0              4.0               2                  4  \n",
       "2              2.0              1.0               3                  3  \n",
       "3              4.0              3.0               2                  3  \n",
       "4              1.0              3.0               3                  3  \n",
       "\n",
       "[5 rows x 29 columns]"
      ]
     },
     "execution_count": 4,
     "metadata": {},
     "output_type": "execute_result"
    }
   ],
   "source": [
    "df.head()"
   ]
  },
  {
   "cell_type": "code",
   "execution_count": 5,
   "id": "87bcb04b",
   "metadata": {},
   "outputs": [
    {
     "data": {
      "text/plain": [
       "0"
      ]
     },
     "execution_count": 5,
     "metadata": {},
     "output_type": "execute_result"
    }
   ],
   "source": [
    "df['EmployeeID'].duplicated().sum()"
   ]
  },
  {
   "cell_type": "code",
   "execution_count": 6,
   "id": "ccbeb048",
   "metadata": {},
   "outputs": [
    {
     "data": {
      "text/html": [
       "<div>\n",
       "<style scoped>\n",
       "    .dataframe tbody tr th:only-of-type {\n",
       "        vertical-align: middle;\n",
       "    }\n",
       "\n",
       "    .dataframe tbody tr th {\n",
       "        vertical-align: top;\n",
       "    }\n",
       "\n",
       "    .dataframe thead th {\n",
       "        text-align: right;\n",
       "    }\n",
       "</style>\n",
       "<table border=\"1\" class=\"dataframe\">\n",
       "  <thead>\n",
       "    <tr style=\"text-align: right;\">\n",
       "      <th></th>\n",
       "      <th>EmployeeID</th>\n",
       "      <th>Age</th>\n",
       "      <th>DistanceFromHome</th>\n",
       "      <th>Education</th>\n",
       "      <th>EmployeeCount</th>\n",
       "      <th>JobLevel</th>\n",
       "      <th>MonthlyIncome</th>\n",
       "      <th>NumCompaniesWorked</th>\n",
       "      <th>PercentSalaryHike</th>\n",
       "      <th>StandardHours</th>\n",
       "      <th>...</th>\n",
       "      <th>TotalWorkingYears</th>\n",
       "      <th>TrainingTimesLastYear</th>\n",
       "      <th>YearsAtCompany</th>\n",
       "      <th>YearsSinceLastPromotion</th>\n",
       "      <th>YearsWithCurrManager</th>\n",
       "      <th>EnvironmentSatisfaction</th>\n",
       "      <th>JobSatisfaction</th>\n",
       "      <th>WorkLifeBalance</th>\n",
       "      <th>JobInvolvement</th>\n",
       "      <th>PerformanceRating</th>\n",
       "    </tr>\n",
       "  </thead>\n",
       "  <tbody>\n",
       "    <tr>\n",
       "      <th>count</th>\n",
       "      <td>4410.000000</td>\n",
       "      <td>4410.000000</td>\n",
       "      <td>4410.000000</td>\n",
       "      <td>4410.000000</td>\n",
       "      <td>4410.0</td>\n",
       "      <td>4410.000000</td>\n",
       "      <td>4410.000000</td>\n",
       "      <td>4391.000000</td>\n",
       "      <td>4410.000000</td>\n",
       "      <td>4410.0</td>\n",
       "      <td>...</td>\n",
       "      <td>4401.000000</td>\n",
       "      <td>4410.000000</td>\n",
       "      <td>4410.000000</td>\n",
       "      <td>4410.000000</td>\n",
       "      <td>4410.000000</td>\n",
       "      <td>4385.000000</td>\n",
       "      <td>4390.000000</td>\n",
       "      <td>4372.000000</td>\n",
       "      <td>4410.000000</td>\n",
       "      <td>4410.000000</td>\n",
       "    </tr>\n",
       "    <tr>\n",
       "      <th>mean</th>\n",
       "      <td>2205.500000</td>\n",
       "      <td>36.923810</td>\n",
       "      <td>9.192517</td>\n",
       "      <td>2.912925</td>\n",
       "      <td>1.0</td>\n",
       "      <td>2.063946</td>\n",
       "      <td>65029.312925</td>\n",
       "      <td>2.694830</td>\n",
       "      <td>15.209524</td>\n",
       "      <td>8.0</td>\n",
       "      <td>...</td>\n",
       "      <td>11.279936</td>\n",
       "      <td>2.799320</td>\n",
       "      <td>7.008163</td>\n",
       "      <td>2.187755</td>\n",
       "      <td>4.123129</td>\n",
       "      <td>2.723603</td>\n",
       "      <td>2.728246</td>\n",
       "      <td>2.761436</td>\n",
       "      <td>2.729932</td>\n",
       "      <td>3.153741</td>\n",
       "    </tr>\n",
       "    <tr>\n",
       "      <th>std</th>\n",
       "      <td>1273.201673</td>\n",
       "      <td>9.133301</td>\n",
       "      <td>8.105026</td>\n",
       "      <td>1.023933</td>\n",
       "      <td>0.0</td>\n",
       "      <td>1.106689</td>\n",
       "      <td>47068.888559</td>\n",
       "      <td>2.498887</td>\n",
       "      <td>3.659108</td>\n",
       "      <td>0.0</td>\n",
       "      <td>...</td>\n",
       "      <td>7.782222</td>\n",
       "      <td>1.288978</td>\n",
       "      <td>6.125135</td>\n",
       "      <td>3.221699</td>\n",
       "      <td>3.567327</td>\n",
       "      <td>1.092756</td>\n",
       "      <td>1.101253</td>\n",
       "      <td>0.706245</td>\n",
       "      <td>0.711400</td>\n",
       "      <td>0.360742</td>\n",
       "    </tr>\n",
       "    <tr>\n",
       "      <th>min</th>\n",
       "      <td>1.000000</td>\n",
       "      <td>18.000000</td>\n",
       "      <td>1.000000</td>\n",
       "      <td>1.000000</td>\n",
       "      <td>1.0</td>\n",
       "      <td>1.000000</td>\n",
       "      <td>10090.000000</td>\n",
       "      <td>0.000000</td>\n",
       "      <td>11.000000</td>\n",
       "      <td>8.0</td>\n",
       "      <td>...</td>\n",
       "      <td>0.000000</td>\n",
       "      <td>0.000000</td>\n",
       "      <td>0.000000</td>\n",
       "      <td>0.000000</td>\n",
       "      <td>0.000000</td>\n",
       "      <td>1.000000</td>\n",
       "      <td>1.000000</td>\n",
       "      <td>1.000000</td>\n",
       "      <td>1.000000</td>\n",
       "      <td>3.000000</td>\n",
       "    </tr>\n",
       "    <tr>\n",
       "      <th>25%</th>\n",
       "      <td>1103.250000</td>\n",
       "      <td>30.000000</td>\n",
       "      <td>2.000000</td>\n",
       "      <td>2.000000</td>\n",
       "      <td>1.0</td>\n",
       "      <td>1.000000</td>\n",
       "      <td>29110.000000</td>\n",
       "      <td>1.000000</td>\n",
       "      <td>12.000000</td>\n",
       "      <td>8.0</td>\n",
       "      <td>...</td>\n",
       "      <td>6.000000</td>\n",
       "      <td>2.000000</td>\n",
       "      <td>3.000000</td>\n",
       "      <td>0.000000</td>\n",
       "      <td>2.000000</td>\n",
       "      <td>2.000000</td>\n",
       "      <td>2.000000</td>\n",
       "      <td>2.000000</td>\n",
       "      <td>2.000000</td>\n",
       "      <td>3.000000</td>\n",
       "    </tr>\n",
       "    <tr>\n",
       "      <th>50%</th>\n",
       "      <td>2205.500000</td>\n",
       "      <td>36.000000</td>\n",
       "      <td>7.000000</td>\n",
       "      <td>3.000000</td>\n",
       "      <td>1.0</td>\n",
       "      <td>2.000000</td>\n",
       "      <td>49190.000000</td>\n",
       "      <td>2.000000</td>\n",
       "      <td>14.000000</td>\n",
       "      <td>8.0</td>\n",
       "      <td>...</td>\n",
       "      <td>10.000000</td>\n",
       "      <td>3.000000</td>\n",
       "      <td>5.000000</td>\n",
       "      <td>1.000000</td>\n",
       "      <td>3.000000</td>\n",
       "      <td>3.000000</td>\n",
       "      <td>3.000000</td>\n",
       "      <td>3.000000</td>\n",
       "      <td>3.000000</td>\n",
       "      <td>3.000000</td>\n",
       "    </tr>\n",
       "    <tr>\n",
       "      <th>75%</th>\n",
       "      <td>3307.750000</td>\n",
       "      <td>43.000000</td>\n",
       "      <td>14.000000</td>\n",
       "      <td>4.000000</td>\n",
       "      <td>1.0</td>\n",
       "      <td>3.000000</td>\n",
       "      <td>83800.000000</td>\n",
       "      <td>4.000000</td>\n",
       "      <td>18.000000</td>\n",
       "      <td>8.0</td>\n",
       "      <td>...</td>\n",
       "      <td>15.000000</td>\n",
       "      <td>3.000000</td>\n",
       "      <td>9.000000</td>\n",
       "      <td>3.000000</td>\n",
       "      <td>7.000000</td>\n",
       "      <td>4.000000</td>\n",
       "      <td>4.000000</td>\n",
       "      <td>3.000000</td>\n",
       "      <td>3.000000</td>\n",
       "      <td>3.000000</td>\n",
       "    </tr>\n",
       "    <tr>\n",
       "      <th>max</th>\n",
       "      <td>4410.000000</td>\n",
       "      <td>60.000000</td>\n",
       "      <td>29.000000</td>\n",
       "      <td>5.000000</td>\n",
       "      <td>1.0</td>\n",
       "      <td>5.000000</td>\n",
       "      <td>199990.000000</td>\n",
       "      <td>9.000000</td>\n",
       "      <td>25.000000</td>\n",
       "      <td>8.0</td>\n",
       "      <td>...</td>\n",
       "      <td>40.000000</td>\n",
       "      <td>6.000000</td>\n",
       "      <td>40.000000</td>\n",
       "      <td>15.000000</td>\n",
       "      <td>17.000000</td>\n",
       "      <td>4.000000</td>\n",
       "      <td>4.000000</td>\n",
       "      <td>4.000000</td>\n",
       "      <td>4.000000</td>\n",
       "      <td>4.000000</td>\n",
       "    </tr>\n",
       "  </tbody>\n",
       "</table>\n",
       "<p>8 rows × 21 columns</p>\n",
       "</div>"
      ],
      "text/plain": [
       "        EmployeeID          Age  DistanceFromHome    Education  EmployeeCount  \\\n",
       "count  4410.000000  4410.000000       4410.000000  4410.000000         4410.0   \n",
       "mean   2205.500000    36.923810          9.192517     2.912925            1.0   \n",
       "std    1273.201673     9.133301          8.105026     1.023933            0.0   \n",
       "min       1.000000    18.000000          1.000000     1.000000            1.0   \n",
       "25%    1103.250000    30.000000          2.000000     2.000000            1.0   \n",
       "50%    2205.500000    36.000000          7.000000     3.000000            1.0   \n",
       "75%    3307.750000    43.000000         14.000000     4.000000            1.0   \n",
       "max    4410.000000    60.000000         29.000000     5.000000            1.0   \n",
       "\n",
       "          JobLevel  MonthlyIncome  NumCompaniesWorked  PercentSalaryHike  \\\n",
       "count  4410.000000    4410.000000         4391.000000        4410.000000   \n",
       "mean      2.063946   65029.312925            2.694830          15.209524   \n",
       "std       1.106689   47068.888559            2.498887           3.659108   \n",
       "min       1.000000   10090.000000            0.000000          11.000000   \n",
       "25%       1.000000   29110.000000            1.000000          12.000000   \n",
       "50%       2.000000   49190.000000            2.000000          14.000000   \n",
       "75%       3.000000   83800.000000            4.000000          18.000000   \n",
       "max       5.000000  199990.000000            9.000000          25.000000   \n",
       "\n",
       "       StandardHours  ...  TotalWorkingYears  TrainingTimesLastYear  \\\n",
       "count         4410.0  ...        4401.000000            4410.000000   \n",
       "mean             8.0  ...          11.279936               2.799320   \n",
       "std              0.0  ...           7.782222               1.288978   \n",
       "min              8.0  ...           0.000000               0.000000   \n",
       "25%              8.0  ...           6.000000               2.000000   \n",
       "50%              8.0  ...          10.000000               3.000000   \n",
       "75%              8.0  ...          15.000000               3.000000   \n",
       "max              8.0  ...          40.000000               6.000000   \n",
       "\n",
       "       YearsAtCompany  YearsSinceLastPromotion  YearsWithCurrManager  \\\n",
       "count     4410.000000              4410.000000           4410.000000   \n",
       "mean         7.008163                 2.187755              4.123129   \n",
       "std          6.125135                 3.221699              3.567327   \n",
       "min          0.000000                 0.000000              0.000000   \n",
       "25%          3.000000                 0.000000              2.000000   \n",
       "50%          5.000000                 1.000000              3.000000   \n",
       "75%          9.000000                 3.000000              7.000000   \n",
       "max         40.000000                15.000000             17.000000   \n",
       "\n",
       "       EnvironmentSatisfaction  JobSatisfaction  WorkLifeBalance  \\\n",
       "count              4385.000000      4390.000000      4372.000000   \n",
       "mean                  2.723603         2.728246         2.761436   \n",
       "std                   1.092756         1.101253         0.706245   \n",
       "min                   1.000000         1.000000         1.000000   \n",
       "25%                   2.000000         2.000000         2.000000   \n",
       "50%                   3.000000         3.000000         3.000000   \n",
       "75%                   4.000000         4.000000         3.000000   \n",
       "max                   4.000000         4.000000         4.000000   \n",
       "\n",
       "       JobInvolvement  PerformanceRating  \n",
       "count     4410.000000        4410.000000  \n",
       "mean         2.729932           3.153741  \n",
       "std          0.711400           0.360742  \n",
       "min          1.000000           3.000000  \n",
       "25%          2.000000           3.000000  \n",
       "50%          3.000000           3.000000  \n",
       "75%          3.000000           3.000000  \n",
       "max          4.000000           4.000000  \n",
       "\n",
       "[8 rows x 21 columns]"
      ]
     },
     "execution_count": 6,
     "metadata": {},
     "output_type": "execute_result"
    }
   ],
   "source": [
    "df.describe()"
   ]
  },
  {
   "cell_type": "markdown",
   "id": "76cb2610",
   "metadata": {},
   "source": [
    "A quick glance at the data summary makes us\n",
    "\n",
    "understand that there are missing values in the follwing columns\n",
    "\n",
    "1. NumComapniesWorked\n",
    "\n",
    "2.EnvironmentSatisfaction\n",
    "\n",
    "3.WorkLifeBalance\n"
   ]
  },
  {
   "cell_type": "code",
   "execution_count": 8,
   "id": "796c73f6",
   "metadata": {},
   "outputs": [
    {
     "name": "stdout",
     "output_type": "stream",
     "text": [
      "<class 'pandas.core.frame.DataFrame'>\n",
      "RangeIndex: 4410 entries, 0 to 4409\n",
      "Data columns (total 29 columns):\n",
      " #   Column                   Non-Null Count  Dtype  \n",
      "---  ------                   --------------  -----  \n",
      " 0   EmployeeID               4410 non-null   int64  \n",
      " 1   Age                      4410 non-null   int64  \n",
      " 2   Attrition                4410 non-null   object \n",
      " 3   BusinessTravel           4410 non-null   object \n",
      " 4   Department               4410 non-null   object \n",
      " 5   DistanceFromHome         4410 non-null   int64  \n",
      " 6   Education                4410 non-null   int64  \n",
      " 7   EducationField           4410 non-null   object \n",
      " 8   EmployeeCount            4410 non-null   int64  \n",
      " 9   Gender                   4410 non-null   object \n",
      " 10  JobLevel                 4410 non-null   int64  \n",
      " 11  JobRole                  4410 non-null   object \n",
      " 12  MaritalStatus            4410 non-null   object \n",
      " 13  MonthlyIncome            4410 non-null   int64  \n",
      " 14  NumCompaniesWorked       4391 non-null   float64\n",
      " 15  Over18                   4410 non-null   object \n",
      " 16  PercentSalaryHike        4410 non-null   int64  \n",
      " 17  StandardHours            4410 non-null   int64  \n",
      " 18  StockOptionLevel         4410 non-null   int64  \n",
      " 19  TotalWorkingYears        4401 non-null   float64\n",
      " 20  TrainingTimesLastYear    4410 non-null   int64  \n",
      " 21  YearsAtCompany           4410 non-null   int64  \n",
      " 22  YearsSinceLastPromotion  4410 non-null   int64  \n",
      " 23  YearsWithCurrManager     4410 non-null   int64  \n",
      " 24  EnvironmentSatisfaction  4385 non-null   float64\n",
      " 25  JobSatisfaction          4390 non-null   float64\n",
      " 26  WorkLifeBalance          4372 non-null   float64\n",
      " 27  JobInvolvement           4410 non-null   int64  \n",
      " 28  PerformanceRating        4410 non-null   int64  \n",
      "dtypes: float64(5), int64(16), object(8)\n",
      "memory usage: 999.3+ KB\n"
     ]
    }
   ],
   "source": [
    "df.info()"
   ]
  },
  {
   "cell_type": "markdown",
   "id": "57344b1b",
   "metadata": {},
   "source": [
    "# Summary Of Qualitiative Variables "
   ]
  },
  {
   "cell_type": "code",
   "execution_count": 7,
   "id": "e5e2c577",
   "metadata": {},
   "outputs": [
    {
     "name": "stdout",
     "output_type": "stream",
     "text": [
      "No     3699\n",
      "Yes     711\n",
      "Name: Attrition, dtype: int64\n",
      "Research & Development    2883\n",
      "Sales                     1338\n",
      "Human Resources            189\n",
      "Name: Department, dtype: int64\n",
      "Male      2646\n",
      "Female    1764\n",
      "Name: Gender, dtype: int64\n"
     ]
    }
   ],
   "source": [
    "print(df['Attrition'].value_counts())\n",
    "print(df['Department'].value_counts())\n",
    "print(df['Gender'].value_counts())\n"
   ]
  },
  {
   "cell_type": "markdown",
   "id": "ab401c5a",
   "metadata": {},
   "source": [
    "# Dropping unneccessary & redundant columns/"
   ]
  },
  {
   "cell_type": "code",
   "execution_count": 8,
   "id": "6cf0906a",
   "metadata": {},
   "outputs": [],
   "source": [
    "df.drop(['EmployeeID','EmployeeCount','Over18'],axis=1,inplace=True)"
   ]
  },
  {
   "cell_type": "markdown",
   "id": "2e0de981",
   "metadata": {},
   "source": [
    "# Checking for class imbalance of the dependent variable i.e Attrition. \n"
   ]
  },
  {
   "cell_type": "markdown",
   "id": "c74b477d",
   "metadata": {},
   "source": [
    "This is done so that if any ML models are to be deployed then it is importanta to know if there is class imbalance so that this can be treated so that model is not biased"
   ]
  },
  {
   "cell_type": "code",
   "execution_count": 9,
   "id": "83db37df",
   "metadata": {},
   "outputs": [
    {
     "data": {
      "text/plain": [
       "No     3699\n",
       "Yes     711\n",
       "Name: Attrition, dtype: int64"
      ]
     },
     "execution_count": 9,
     "metadata": {},
     "output_type": "execute_result"
    }
   ],
   "source": [
    "df['Attrition'].value_counts()"
   ]
  },
  {
   "cell_type": "markdown",
   "id": "c96ebd26",
   "metadata": {},
   "source": [
    "Class imbalnce exists"
   ]
  },
  {
   "cell_type": "markdown",
   "id": "453f3302",
   "metadata": {},
   "source": [
    "# Imputation of missing values\n",
    "\n",
    "Missing values were found in\n",
    "\n",
    "1. NumComapniesWorked\n",
    "\n",
    "2.EnvironmentSatisfaction\n",
    "\n",
    "3.WorkLifeBalance\n"
   ]
  },
  {
   "cell_type": "markdown",
   "id": "6d383dea",
   "metadata": {},
   "source": [
    "# NumComapniesWorked"
   ]
  },
  {
   "cell_type": "code",
   "execution_count": 10,
   "id": "93ae020c",
   "metadata": {},
   "outputs": [
    {
     "data": {
      "text/plain": [
       "19"
      ]
     },
     "execution_count": 10,
     "metadata": {},
     "output_type": "execute_result"
    }
   ],
   "source": [
    "df['NumCompaniesWorked'].isnull().sum()"
   ]
  },
  {
   "cell_type": "markdown",
   "id": "0a2378c7",
   "metadata": {},
   "source": [
    "Imputing using ffill"
   ]
  },
  {
   "cell_type": "code",
   "execution_count": 11,
   "id": "0599a303",
   "metadata": {},
   "outputs": [],
   "source": [
    "df['NumCompaniesWorked'].fillna(method='ffill', inplace=True)"
   ]
  },
  {
   "cell_type": "code",
   "execution_count": 12,
   "id": "3daef17b",
   "metadata": {},
   "outputs": [
    {
     "data": {
      "text/plain": [
       "0"
      ]
     },
     "execution_count": 12,
     "metadata": {},
     "output_type": "execute_result"
    }
   ],
   "source": [
    "df['NumCompaniesWorked'].isnull().sum()"
   ]
  },
  {
   "cell_type": "markdown",
   "id": "285cc07a",
   "metadata": {},
   "source": [
    "# EnvironmentSatisfaction"
   ]
  },
  {
   "cell_type": "code",
   "execution_count": 13,
   "id": "1fd5c1a6",
   "metadata": {},
   "outputs": [
    {
     "data": {
      "text/plain": [
       "25"
      ]
     },
     "execution_count": 13,
     "metadata": {},
     "output_type": "execute_result"
    }
   ],
   "source": [
    "df['EnvironmentSatisfaction'].isnull().sum()"
   ]
  },
  {
   "cell_type": "markdown",
   "id": "ad47a4c8",
   "metadata": {},
   "source": [
    " Imputing using ffill"
   ]
  },
  {
   "cell_type": "code",
   "execution_count": 14,
   "id": "c095d738",
   "metadata": {},
   "outputs": [],
   "source": [
    "df['EnvironmentSatisfaction'].fillna(method='ffill', inplace=True)"
   ]
  },
  {
   "cell_type": "code",
   "execution_count": 15,
   "id": "481682b5",
   "metadata": {},
   "outputs": [
    {
     "data": {
      "text/plain": [
       "0"
      ]
     },
     "execution_count": 15,
     "metadata": {},
     "output_type": "execute_result"
    }
   ],
   "source": [
    "df['EnvironmentSatisfaction'].isnull().sum()"
   ]
  },
  {
   "cell_type": "markdown",
   "id": "50c82356",
   "metadata": {},
   "source": [
    "# WorkLifeBalance"
   ]
  },
  {
   "cell_type": "code",
   "execution_count": 16,
   "id": "ec768d3c",
   "metadata": {},
   "outputs": [
    {
     "data": {
      "text/plain": [
       "38"
      ]
     },
     "execution_count": 16,
     "metadata": {},
     "output_type": "execute_result"
    }
   ],
   "source": [
    "df['WorkLifeBalance'].isnull().sum()"
   ]
  },
  {
   "cell_type": "markdown",
   "id": "f920ed07",
   "metadata": {},
   "source": [
    "Imputing using ffilll"
   ]
  },
  {
   "cell_type": "code",
   "execution_count": 17,
   "id": "3c486c80",
   "metadata": {},
   "outputs": [],
   "source": [
    "df['WorkLifeBalance'].fillna(method='ffill', inplace=True)"
   ]
  },
  {
   "cell_type": "code",
   "execution_count": 18,
   "id": "7c52e0eb",
   "metadata": {},
   "outputs": [
    {
     "data": {
      "text/plain": [
       "0"
      ]
     },
     "execution_count": 18,
     "metadata": {},
     "output_type": "execute_result"
    }
   ],
   "source": [
    "df['WorkLifeBalance'].isnull().sum()"
   ]
  },
  {
   "cell_type": "markdown",
   "id": "fe757478",
   "metadata": {},
   "source": [
    "# Checking for outliers using box plot"
   ]
  },
  {
   "cell_type": "code",
   "execution_count": 19,
   "id": "8e6cd64f",
   "metadata": {},
   "outputs": [
    {
     "data": {
      "text/plain": [
       "<Axes: >"
      ]
     },
     "execution_count": 19,
     "metadata": {},
     "output_type": "execute_result"
    },
    {
     "data": {
      "image/png": "[encoded data removed]",
      "text/plain": [
       "<Figure size 640x480 with 1 Axes>"
      ]
     },
     "metadata": {},
     "output_type": "display_data"
    }
   ],
   "source": [
    "a=['Age','DistanceFromHome','TotalWorkingYears']\n",
    "b=['TrainingTimesLastYear','YearsAtCompany','NumCompaniesWorked']\n",
    "c=['YearsSinceLastPromotion','YearsWithCurrManager']\n",
    "\n",
    "sns.boxplot(df[a])"
   ]
  },
  {
   "cell_type": "code",
   "execution_count": 20,
   "id": "73723ec4",
   "metadata": {},
   "outputs": [
    {
     "data": {
      "text/plain": [
       "<Axes: >"
      ]
     },
     "execution_count": 20,
     "metadata": {},
     "output_type": "execute_result"
    },
    {
     "data": {
      "image/png": "[encoded data removed]",
      "text/plain": [
       "<Figure size 640x480 with 1 Axes>"
      ]
     },
     "metadata": {},
     "output_type": "display_data"
    }
   ],
   "source": [
    "sns.boxplot(df[b])"
   ]
  },
  {
   "cell_type": "code",
   "execution_count": 21,
   "id": "4554a2ea",
   "metadata": {},
   "outputs": [
    {
     "data": {
      "text/plain": [
       "<Axes: >"
      ]
     },
     "execution_count": 21,
     "metadata": {},
     "output_type": "execute_result"
    },
    {
     "data": {
      "image/png": "[encoded data removed]",
      "text/plain": [
       "<Figure size 640x480 with 1 Axes>"
      ]
     },
     "metadata": {},
     "output_type": "display_data"
    }
   ],
   "source": [
    "sns.boxplot(df[c])"
   ]
  },
  {
   "cell_type": "markdown",
   "id": "01a99f06",
   "metadata": {},
   "source": [
    "Outliers are present and are significant in the following variables\n",
    "\n",
    "1.TotalWorkingYears\n",
    "\n",
    "2.YearsAtCompany\n",
    "\n",
    "3.YearsSinceLastPromotion\n",
    "\n",
    "4.YearsWithCurrManager"
   ]
  },
  {
   "cell_type": "markdown",
   "id": "37142ed9",
   "metadata": {},
   "source": [
    "# Outlier Analysis & Treatment"
   ]
  },
  {
   "cell_type": "markdown",
   "id": "2a646ed2",
   "metadata": {},
   "source": [
    "#  Total WorkingYears"
   ]
  },
  {
   "cell_type": "code",
   "execution_count": 22,
   "id": "b8f12a25",
   "metadata": {},
   "outputs": [
    {
     "data": {
      "text/plain": [
       "count    4401.000000\n",
       "mean       11.279936\n",
       "std         7.782222\n",
       "min         0.000000\n",
       "25%         6.000000\n",
       "50%        10.000000\n",
       "75%        15.000000\n",
       "max        40.000000\n",
       "Name: TotalWorkingYears, dtype: float64"
      ]
     },
     "execution_count": 22,
     "metadata": {},
     "output_type": "execute_result"
    }
   ],
   "source": [
    "df['TotalWorkingYears'].describe()"
   ]
  },
  {
   "cell_type": "markdown",
   "id": "41d69ae0",
   "metadata": {},
   "source": [
    "Since 75% of the experience is below 15. For easier analysis and visualisation, here we can use binning, taking the classes as 0-5,5-10,10-15 and finally 15-40 as another class "
   ]
  },
  {
   "cell_type": "code",
   "execution_count": 23,
   "id": "44aa9206",
   "metadata": {},
   "outputs": [],
   "source": [
    "def workex_bin(workex):\n",
    "    if workex<5:\n",
    "        return 'Less than 5'\n",
    "    elif workex<10:\n",
    "        return 'More than 5 but less than 10'\n",
    "    elif workex<15:\n",
    "        return 'More than 10 but less than 15'\n",
    "    else:\n",
    "        return 'More 15'"
   ]
  },
  {
   "cell_type": "code",
   "execution_count": 24,
   "id": "4c4599a1",
   "metadata": {},
   "outputs": [],
   "source": [
    "df['Workex_classes']=df['TotalWorkingYears'].apply(workex_bin)"
   ]
  },
  {
   "cell_type": "code",
   "execution_count": 25,
   "id": "52561753",
   "metadata": {},
   "outputs": [
    {
     "data": {
      "text/html": [
       "<div>\n",
       "<style scoped>\n",
       "    .dataframe tbody tr th:only-of-type {\n",
       "        vertical-align: middle;\n",
       "    }\n",
       "\n",
       "    .dataframe tbody tr th {\n",
       "        vertical-align: top;\n",
       "    }\n",
       "\n",
       "    .dataframe thead th {\n",
       "        text-align: right;\n",
       "    }\n",
       "</style>\n",
       "<table border=\"1\" class=\"dataframe\">\n",
       "  <thead>\n",
       "    <tr style=\"text-align: right;\">\n",
       "      <th></th>\n",
       "      <th>Age</th>\n",
       "      <th>Attrition</th>\n",
       "      <th>BusinessTravel</th>\n",
       "      <th>Department</th>\n",
       "      <th>DistanceFromHome</th>\n",
       "      <th>Education</th>\n",
       "      <th>EducationField</th>\n",
       "      <th>Gender</th>\n",
       "      <th>JobLevel</th>\n",
       "      <th>JobRole</th>\n",
       "      <th>...</th>\n",
       "      <th>TrainingTimesLastYear</th>\n",
       "      <th>YearsAtCompany</th>\n",
       "      <th>YearsSinceLastPromotion</th>\n",
       "      <th>YearsWithCurrManager</th>\n",
       "      <th>EnvironmentSatisfaction</th>\n",
       "      <th>JobSatisfaction</th>\n",
       "      <th>WorkLifeBalance</th>\n",
       "      <th>JobInvolvement</th>\n",
       "      <th>PerformanceRating</th>\n",
       "      <th>Workex_classes</th>\n",
       "    </tr>\n",
       "  </thead>\n",
       "  <tbody>\n",
       "    <tr>\n",
       "      <th>0</th>\n",
       "      <td>51</td>\n",
       "      <td>No</td>\n",
       "      <td>Travel_Rarely</td>\n",
       "      <td>Sales</td>\n",
       "      <td>6</td>\n",
       "      <td>2</td>\n",
       "      <td>Life Sciences</td>\n",
       "      <td>Female</td>\n",
       "      <td>1</td>\n",
       "      <td>Healthcare Representative</td>\n",
       "      <td>...</td>\n",
       "      <td>6</td>\n",
       "      <td>1</td>\n",
       "      <td>0</td>\n",
       "      <td>0</td>\n",
       "      <td>3.0</td>\n",
       "      <td>4.0</td>\n",
       "      <td>2.0</td>\n",
       "      <td>3</td>\n",
       "      <td>3</td>\n",
       "      <td>Less than 5</td>\n",
       "    </tr>\n",
       "    <tr>\n",
       "      <th>1</th>\n",
       "      <td>31</td>\n",
       "      <td>Yes</td>\n",
       "      <td>Travel_Frequently</td>\n",
       "      <td>Research &amp; Development</td>\n",
       "      <td>10</td>\n",
       "      <td>1</td>\n",
       "      <td>Life Sciences</td>\n",
       "      <td>Female</td>\n",
       "      <td>1</td>\n",
       "      <td>Research Scientist</td>\n",
       "      <td>...</td>\n",
       "      <td>3</td>\n",
       "      <td>5</td>\n",
       "      <td>1</td>\n",
       "      <td>4</td>\n",
       "      <td>3.0</td>\n",
       "      <td>2.0</td>\n",
       "      <td>4.0</td>\n",
       "      <td>2</td>\n",
       "      <td>4</td>\n",
       "      <td>More than 5 but less than 10</td>\n",
       "    </tr>\n",
       "    <tr>\n",
       "      <th>2</th>\n",
       "      <td>32</td>\n",
       "      <td>No</td>\n",
       "      <td>Travel_Frequently</td>\n",
       "      <td>Research &amp; Development</td>\n",
       "      <td>17</td>\n",
       "      <td>4</td>\n",
       "      <td>Other</td>\n",
       "      <td>Male</td>\n",
       "      <td>4</td>\n",
       "      <td>Sales Executive</td>\n",
       "      <td>...</td>\n",
       "      <td>2</td>\n",
       "      <td>5</td>\n",
       "      <td>0</td>\n",
       "      <td>3</td>\n",
       "      <td>2.0</td>\n",
       "      <td>2.0</td>\n",
       "      <td>1.0</td>\n",
       "      <td>3</td>\n",
       "      <td>3</td>\n",
       "      <td>More than 5 but less than 10</td>\n",
       "    </tr>\n",
       "    <tr>\n",
       "      <th>3</th>\n",
       "      <td>38</td>\n",
       "      <td>No</td>\n",
       "      <td>Non-Travel</td>\n",
       "      <td>Research &amp; Development</td>\n",
       "      <td>2</td>\n",
       "      <td>5</td>\n",
       "      <td>Life Sciences</td>\n",
       "      <td>Male</td>\n",
       "      <td>3</td>\n",
       "      <td>Human Resources</td>\n",
       "      <td>...</td>\n",
       "      <td>5</td>\n",
       "      <td>8</td>\n",
       "      <td>7</td>\n",
       "      <td>5</td>\n",
       "      <td>4.0</td>\n",
       "      <td>4.0</td>\n",
       "      <td>3.0</td>\n",
       "      <td>2</td>\n",
       "      <td>3</td>\n",
       "      <td>More than 10 but less than 15</td>\n",
       "    </tr>\n",
       "    <tr>\n",
       "      <th>4</th>\n",
       "      <td>32</td>\n",
       "      <td>No</td>\n",
       "      <td>Travel_Rarely</td>\n",
       "      <td>Research &amp; Development</td>\n",
       "      <td>10</td>\n",
       "      <td>1</td>\n",
       "      <td>Medical</td>\n",
       "      <td>Male</td>\n",
       "      <td>1</td>\n",
       "      <td>Sales Executive</td>\n",
       "      <td>...</td>\n",
       "      <td>2</td>\n",
       "      <td>6</td>\n",
       "      <td>0</td>\n",
       "      <td>4</td>\n",
       "      <td>4.0</td>\n",
       "      <td>1.0</td>\n",
       "      <td>3.0</td>\n",
       "      <td>3</td>\n",
       "      <td>3</td>\n",
       "      <td>More than 5 but less than 10</td>\n",
       "    </tr>\n",
       "  </tbody>\n",
       "</table>\n",
       "<p>5 rows × 27 columns</p>\n",
       "</div>"
      ],
      "text/plain": [
       "   Age Attrition     BusinessTravel              Department  DistanceFromHome  \\\n",
       "0   51        No      Travel_Rarely                   Sales                 6   \n",
       "1   31       Yes  Travel_Frequently  Research & Development                10   \n",
       "2   32        No  Travel_Frequently  Research & Development                17   \n",
       "3   38        No         Non-Travel  Research & Development                 2   \n",
       "4   32        No      Travel_Rarely  Research & Development                10   \n",
       "\n",
       "   Education EducationField  Gender  JobLevel                    JobRole  ...  \\\n",
       "0          2  Life Sciences  Female         1  Healthcare Representative  ...   \n",
       "1          1  Life Sciences  Female         1         Research Scientist  ...   \n",
       "2          4          Other    Male         4            Sales Executive  ...   \n",
       "3          5  Life Sciences    Male         3            Human Resources  ...   \n",
       "4          1        Medical    Male         1            Sales Executive  ...   \n",
       "\n",
       "  TrainingTimesLastYear  YearsAtCompany  YearsSinceLastPromotion  \\\n",
       "0                     6               1                        0   \n",
       "1                     3               5                        1   \n",
       "2                     2               5                        0   \n",
       "3                     5               8                        7   \n",
       "4                     2               6                        0   \n",
       "\n",
       "   YearsWithCurrManager  EnvironmentSatisfaction  JobSatisfaction  \\\n",
       "0                     0                      3.0              4.0   \n",
       "1                     4                      3.0              2.0   \n",
       "2                     3                      2.0              2.0   \n",
       "3                     5                      4.0              4.0   \n",
       "4                     4                      4.0              1.0   \n",
       "\n",
       "   WorkLifeBalance  JobInvolvement  PerformanceRating  \\\n",
       "0              2.0               3                  3   \n",
       "1              4.0               2                  4   \n",
       "2              1.0               3                  3   \n",
       "3              3.0               2                  3   \n",
       "4              3.0               3                  3   \n",
       "\n",
       "                  Workex_classes  \n",
       "0                    Less than 5  \n",
       "1   More than 5 but less than 10  \n",
       "2   More than 5 but less than 10  \n",
       "3  More than 10 but less than 15  \n",
       "4   More than 5 but less than 10  \n",
       "\n",
       "[5 rows x 27 columns]"
      ]
     },
     "execution_count": 25,
     "metadata": {},
     "output_type": "execute_result"
    }
   ],
   "source": [
    "df.head()"
   ]
  },
  {
   "cell_type": "markdown",
   "id": "90d5a40a",
   "metadata": {},
   "source": [
    "# YearsAtCompany"
   ]
  },
  {
   "cell_type": "code",
   "execution_count": 26,
   "id": "15f44802",
   "metadata": {},
   "outputs": [
    {
     "data": {
      "text/plain": [
       "count    4410.000000\n",
       "mean        7.008163\n",
       "std         6.125135\n",
       "min         0.000000\n",
       "25%         3.000000\n",
       "50%         5.000000\n",
       "75%         9.000000\n",
       "max        40.000000\n",
       "Name: YearsAtCompany, dtype: float64"
      ]
     },
     "execution_count": 26,
     "metadata": {},
     "output_type": "execute_result"
    }
   ],
   "source": [
    "df['YearsAtCompany'].describe()"
   ]
  },
  {
   "cell_type": "markdown",
   "id": "d70f5f8e",
   "metadata": {},
   "source": [
    "Studying the distribution"
   ]
  },
  {
   "cell_type": "code",
   "execution_count": 27,
   "id": "dba791a2",
   "metadata": {},
   "outputs": [
    {
     "name": "stderr",
     "output_type": "stream",
     "text": [
      "C:\\Users\\HP\\AppData\\Local\\Temp\\ipykernel_18748\\3800673522.py:1: UserWarning: \n",
      "\n",
      "`distplot` is a deprecated function and will be removed in seaborn v0.14.0.\n",
      "\n",
      "Please adapt your code to use either `displot` (a figure-level function with\n",
      "similar flexibility) or `histplot` (an axes-level function for histograms).\n",
      "\n",
      "For a guide to updating your code to use the new functions, please see\n",
      "https://gist.github.com/mwaskom/de44147ed2974457ad6372750bbe5751\n",
      "\n",
      "  sns.distplot(df['YearsAtCompany'])\n"
     ]
    },
    {
     "data": {
      "text/plain": [
       "<Axes: xlabel='YearsAtCompany', ylabel='Density'>"
      ]
     },
     "execution_count": 27,
     "metadata": {},
     "output_type": "execute_result"
    },
    {
     "data": {
      "image/png": "[encoded data removed]",
      "text/plain": [
       "<Figure size 640x480 with 1 Axes>"
      ]
     },
     "metadata": {},
     "output_type": "display_data"
    }
   ],
   "source": [
    "sns.distplot(df['YearsAtCompany'])"
   ]
  },
  {
   "cell_type": "markdown",
   "id": "8866ae1a",
   "metadata": {},
   "source": [
    "From the distplot, it is apparent that there are very few values greater than 30."
   ]
  },
  {
   "cell_type": "code",
   "execution_count": 28,
   "id": "1f2ce76a",
   "metadata": {},
   "outputs": [],
   "source": [
    "df3=df[df['YearsAtCompany']>30]"
   ]
  },
  {
   "cell_type": "code",
   "execution_count": 29,
   "id": "92113e81",
   "metadata": {},
   "outputs": [
    {
     "data": {
      "text/html": [
       "<div>\n",
       "<style scoped>\n",
       "    .dataframe tbody tr th:only-of-type {\n",
       "        vertical-align: middle;\n",
       "    }\n",
       "\n",
       "    .dataframe tbody tr th {\n",
       "        vertical-align: top;\n",
       "    }\n",
       "\n",
       "    .dataframe thead th {\n",
       "        text-align: right;\n",
       "    }\n",
       "</style>\n",
       "<table border=\"1\" class=\"dataframe\">\n",
       "  <thead>\n",
       "    <tr style=\"text-align: right;\">\n",
       "      <th>YearsAtCompany</th>\n",
       "      <th>31</th>\n",
       "      <th>32</th>\n",
       "      <th>33</th>\n",
       "      <th>34</th>\n",
       "      <th>36</th>\n",
       "      <th>37</th>\n",
       "      <th>40</th>\n",
       "    </tr>\n",
       "    <tr>\n",
       "      <th>Attrition</th>\n",
       "      <th></th>\n",
       "      <th></th>\n",
       "      <th></th>\n",
       "      <th></th>\n",
       "      <th></th>\n",
       "      <th></th>\n",
       "      <th></th>\n",
       "    </tr>\n",
       "  </thead>\n",
       "  <tbody>\n",
       "    <tr>\n",
       "      <th>No</th>\n",
       "      <td>6</td>\n",
       "      <td>6</td>\n",
       "      <td>12</td>\n",
       "      <td>3</td>\n",
       "      <td>6</td>\n",
       "      <td>3</td>\n",
       "      <td>0</td>\n",
       "    </tr>\n",
       "    <tr>\n",
       "      <th>Yes</th>\n",
       "      <td>3</td>\n",
       "      <td>3</td>\n",
       "      <td>3</td>\n",
       "      <td>0</td>\n",
       "      <td>0</td>\n",
       "      <td>0</td>\n",
       "      <td>3</td>\n",
       "    </tr>\n",
       "  </tbody>\n",
       "</table>\n",
       "</div>"
      ],
      "text/plain": [
       "YearsAtCompany  31  32  33  34  36  37  40\n",
       "Attrition                                 \n",
       "No               6   6  12   3   6   3   0\n",
       "Yes              3   3   3   0   0   0   3"
      ]
     },
     "execution_count": 29,
     "metadata": {},
     "output_type": "execute_result"
    }
   ],
   "source": [
    "pd.crosstab(df3.Attrition,df3.YearsAtCompany)"
   ]
  },
  {
   "cell_type": "markdown",
   "id": "101a31c5",
   "metadata": {},
   "source": [
    "Attrition rate is very low roughly in the ratio 3:1. Hence this group is not much of interest to us and may be dropped. \n",
    "Checking for the number of values in this group to make sure it is not a sizeable chunk"
   ]
  },
  {
   "cell_type": "code",
   "execution_count": 30,
   "id": "193f7fb1",
   "metadata": {},
   "outputs": [
    {
     "data": {
      "text/plain": [
       "48"
      ]
     },
     "execution_count": 30,
     "metadata": {},
     "output_type": "execute_result"
    }
   ],
   "source": [
    "len(df3)"
   ]
  },
  {
   "cell_type": "markdown",
   "id": "0c850c40",
   "metadata": {},
   "source": [
    "Since the number of values greater than 30 is less than 1% of the data, we can safely drop these values"
   ]
  },
  {
   "cell_type": "code",
   "execution_count": 31,
   "id": "97a0ad48",
   "metadata": {},
   "outputs": [],
   "source": [
    "df=df[df['YearsAtCompany']<=30]"
   ]
  },
  {
   "cell_type": "code",
   "execution_count": 32,
   "id": "c1654138",
   "metadata": {},
   "outputs": [
    {
     "data": {
      "text/plain": [
       "count    4362.000000\n",
       "mean        6.715956\n",
       "std         5.478964\n",
       "min         0.000000\n",
       "25%         3.000000\n",
       "50%         5.000000\n",
       "75%         9.000000\n",
       "max        30.000000\n",
       "Name: YearsAtCompany, dtype: float64"
      ]
     },
     "execution_count": 32,
     "metadata": {},
     "output_type": "execute_result"
    }
   ],
   "source": [
    "df['YearsAtCompany'].describe()"
   ]
  },
  {
   "cell_type": "markdown",
   "id": "41643ea4",
   "metadata": {},
   "source": [
    "# YearsSinceLastPromotion"
   ]
  },
  {
   "cell_type": "code",
   "execution_count": 33,
   "id": "943a760e",
   "metadata": {},
   "outputs": [
    {
     "data": {
      "text/plain": [
       "count    4362.000000\n",
       "mean        2.128611\n",
       "std         3.126869\n",
       "min         0.000000\n",
       "25%         0.000000\n",
       "50%         1.000000\n",
       "75%         2.000000\n",
       "max        15.000000\n",
       "Name: YearsSinceLastPromotion, dtype: float64"
      ]
     },
     "execution_count": 33,
     "metadata": {},
     "output_type": "execute_result"
    }
   ],
   "source": [
    "df['YearsSinceLastPromotion'].describe()"
   ]
  },
  {
   "cell_type": "code",
   "execution_count": 34,
   "id": "36170c81",
   "metadata": {},
   "outputs": [],
   "source": [
    "def last_prom(last_prom):\n",
    "    if last_prom<1:\n",
    "        return 'Less than 1'\n",
    "    elif last_prom<2:\n",
    "        return 'More than 1 but less than 2'\n",
    "    else:\n",
    "        return 'More 15'"
   ]
  },
  {
   "cell_type": "code",
   "execution_count": 35,
   "id": "72d0bdf7",
   "metadata": {},
   "outputs": [],
   "source": [
    "df['LatPromCat']=df['YearsSinceLastPromotion'].apply(last_prom)"
   ]
  },
  {
   "cell_type": "code",
   "execution_count": 36,
   "id": "febfde08",
   "metadata": {},
   "outputs": [
    {
     "data": {
      "text/html": [
       "<div>\n",
       "<style scoped>\n",
       "    .dataframe tbody tr th:only-of-type {\n",
       "        vertical-align: middle;\n",
       "    }\n",
       "\n",
       "    .dataframe tbody tr th {\n",
       "        vertical-align: top;\n",
       "    }\n",
       "\n",
       "    .dataframe thead th {\n",
       "        text-align: right;\n",
       "    }\n",
       "</style>\n",
       "<table border=\"1\" class=\"dataframe\">\n",
       "  <thead>\n",
       "    <tr style=\"text-align: right;\">\n",
       "      <th></th>\n",
       "      <th>Age</th>\n",
       "      <th>Attrition</th>\n",
       "      <th>BusinessTravel</th>\n",
       "      <th>Department</th>\n",
       "      <th>DistanceFromHome</th>\n",
       "      <th>Education</th>\n",
       "      <th>EducationField</th>\n",
       "      <th>Gender</th>\n",
       "      <th>JobLevel</th>\n",
       "      <th>JobRole</th>\n",
       "      <th>...</th>\n",
       "      <th>YearsAtCompany</th>\n",
       "      <th>YearsSinceLastPromotion</th>\n",
       "      <th>YearsWithCurrManager</th>\n",
       "      <th>EnvironmentSatisfaction</th>\n",
       "      <th>JobSatisfaction</th>\n",
       "      <th>WorkLifeBalance</th>\n",
       "      <th>JobInvolvement</th>\n",
       "      <th>PerformanceRating</th>\n",
       "      <th>Workex_classes</th>\n",
       "      <th>LatPromCat</th>\n",
       "    </tr>\n",
       "  </thead>\n",
       "  <tbody>\n",
       "    <tr>\n",
       "      <th>0</th>\n",
       "      <td>51</td>\n",
       "      <td>No</td>\n",
       "      <td>Travel_Rarely</td>\n",
       "      <td>Sales</td>\n",
       "      <td>6</td>\n",
       "      <td>2</td>\n",
       "      <td>Life Sciences</td>\n",
       "      <td>Female</td>\n",
       "      <td>1</td>\n",
       "      <td>Healthcare Representative</td>\n",
       "      <td>...</td>\n",
       "      <td>1</td>\n",
       "      <td>0</td>\n",
       "      <td>0</td>\n",
       "      <td>3.0</td>\n",
       "      <td>4.0</td>\n",
       "      <td>2.0</td>\n",
       "      <td>3</td>\n",
       "      <td>3</td>\n",
       "      <td>Less than 5</td>\n",
       "      <td>Less than 1</td>\n",
       "    </tr>\n",
       "    <tr>\n",
       "      <th>1</th>\n",
       "      <td>31</td>\n",
       "      <td>Yes</td>\n",
       "      <td>Travel_Frequently</td>\n",
       "      <td>Research &amp; Development</td>\n",
       "      <td>10</td>\n",
       "      <td>1</td>\n",
       "      <td>Life Sciences</td>\n",
       "      <td>Female</td>\n",
       "      <td>1</td>\n",
       "      <td>Research Scientist</td>\n",
       "      <td>...</td>\n",
       "      <td>5</td>\n",
       "      <td>1</td>\n",
       "      <td>4</td>\n",
       "      <td>3.0</td>\n",
       "      <td>2.0</td>\n",
       "      <td>4.0</td>\n",
       "      <td>2</td>\n",
       "      <td>4</td>\n",
       "      <td>More than 5 but less than 10</td>\n",
       "      <td>More than 1 but less than 2</td>\n",
       "    </tr>\n",
       "    <tr>\n",
       "      <th>2</th>\n",
       "      <td>32</td>\n",
       "      <td>No</td>\n",
       "      <td>Travel_Frequently</td>\n",
       "      <td>Research &amp; Development</td>\n",
       "      <td>17</td>\n",
       "      <td>4</td>\n",
       "      <td>Other</td>\n",
       "      <td>Male</td>\n",
       "      <td>4</td>\n",
       "      <td>Sales Executive</td>\n",
       "      <td>...</td>\n",
       "      <td>5</td>\n",
       "      <td>0</td>\n",
       "      <td>3</td>\n",
       "      <td>2.0</td>\n",
       "      <td>2.0</td>\n",
       "      <td>1.0</td>\n",
       "      <td>3</td>\n",
       "      <td>3</td>\n",
       "      <td>More than 5 but less than 10</td>\n",
       "      <td>Less than 1</td>\n",
       "    </tr>\n",
       "    <tr>\n",
       "      <th>3</th>\n",
       "      <td>38</td>\n",
       "      <td>No</td>\n",
       "      <td>Non-Travel</td>\n",
       "      <td>Research &amp; Development</td>\n",
       "      <td>2</td>\n",
       "      <td>5</td>\n",
       "      <td>Life Sciences</td>\n",
       "      <td>Male</td>\n",
       "      <td>3</td>\n",
       "      <td>Human Resources</td>\n",
       "      <td>...</td>\n",
       "      <td>8</td>\n",
       "      <td>7</td>\n",
       "      <td>5</td>\n",
       "      <td>4.0</td>\n",
       "      <td>4.0</td>\n",
       "      <td>3.0</td>\n",
       "      <td>2</td>\n",
       "      <td>3</td>\n",
       "      <td>More than 10 but less than 15</td>\n",
       "      <td>More 15</td>\n",
       "    </tr>\n",
       "    <tr>\n",
       "      <th>4</th>\n",
       "      <td>32</td>\n",
       "      <td>No</td>\n",
       "      <td>Travel_Rarely</td>\n",
       "      <td>Research &amp; Development</td>\n",
       "      <td>10</td>\n",
       "      <td>1</td>\n",
       "      <td>Medical</td>\n",
       "      <td>Male</td>\n",
       "      <td>1</td>\n",
       "      <td>Sales Executive</td>\n",
       "      <td>...</td>\n",
       "      <td>6</td>\n",
       "      <td>0</td>\n",
       "      <td>4</td>\n",
       "      <td>4.0</td>\n",
       "      <td>1.0</td>\n",
       "      <td>3.0</td>\n",
       "      <td>3</td>\n",
       "      <td>3</td>\n",
       "      <td>More than 5 but less than 10</td>\n",
       "      <td>Less than 1</td>\n",
       "    </tr>\n",
       "  </tbody>\n",
       "</table>\n",
       "<p>5 rows × 28 columns</p>\n",
       "</div>"
      ],
      "text/plain": [
       "   Age Attrition     BusinessTravel              Department  DistanceFromHome  \\\n",
       "0   51        No      Travel_Rarely                   Sales                 6   \n",
       "1   31       Yes  Travel_Frequently  Research & Development                10   \n",
       "2   32        No  Travel_Frequently  Research & Development                17   \n",
       "3   38        No         Non-Travel  Research & Development                 2   \n",
       "4   32        No      Travel_Rarely  Research & Development                10   \n",
       "\n",
       "   Education EducationField  Gender  JobLevel                    JobRole  ...  \\\n",
       "0          2  Life Sciences  Female         1  Healthcare Representative  ...   \n",
       "1          1  Life Sciences  Female         1         Research Scientist  ...   \n",
       "2          4          Other    Male         4            Sales Executive  ...   \n",
       "3          5  Life Sciences    Male         3            Human Resources  ...   \n",
       "4          1        Medical    Male         1            Sales Executive  ...   \n",
       "\n",
       "  YearsAtCompany  YearsSinceLastPromotion  YearsWithCurrManager  \\\n",
       "0              1                        0                     0   \n",
       "1              5                        1                     4   \n",
       "2              5                        0                     3   \n",
       "3              8                        7                     5   \n",
       "4              6                        0                     4   \n",
       "\n",
       "   EnvironmentSatisfaction  JobSatisfaction  WorkLifeBalance  JobInvolvement  \\\n",
       "0                      3.0              4.0              2.0               3   \n",
       "1                      3.0              2.0              4.0               2   \n",
       "2                      2.0              2.0              1.0               3   \n",
       "3                      4.0              4.0              3.0               2   \n",
       "4                      4.0              1.0              3.0               3   \n",
       "\n",
       "   PerformanceRating                 Workex_classes  \\\n",
       "0                  3                    Less than 5   \n",
       "1                  4   More than 5 but less than 10   \n",
       "2                  3   More than 5 but less than 10   \n",
       "3                  3  More than 10 but less than 15   \n",
       "4                  3   More than 5 but less than 10   \n",
       "\n",
       "                    LatPromCat  \n",
       "0                  Less than 1  \n",
       "1  More than 1 but less than 2  \n",
       "2                  Less than 1  \n",
       "3                      More 15  \n",
       "4                  Less than 1  \n",
       "\n",
       "[5 rows x 28 columns]"
      ]
     },
     "execution_count": 36,
     "metadata": {},
     "output_type": "execute_result"
    }
   ],
   "source": [
    "df.head()"
   ]
  },
  {
   "cell_type": "markdown",
   "id": "90b903a2",
   "metadata": {},
   "source": [
    "# YearsWithCurrManager"
   ]
  },
  {
   "cell_type": "code",
   "execution_count": 37,
   "id": "ad92f3df",
   "metadata": {},
   "outputs": [
    {
     "data": {
      "text/plain": [
       "count    4362.000000\n",
       "mean        4.068776\n",
       "std         3.530305\n",
       "min         0.000000\n",
       "25%         2.000000\n",
       "50%         3.000000\n",
       "75%         7.000000\n",
       "max        17.000000\n",
       "Name: YearsWithCurrManager, dtype: float64"
      ]
     },
     "execution_count": 37,
     "metadata": {},
     "output_type": "execute_result"
    }
   ],
   "source": [
    "df['YearsWithCurrManager'].describe()"
   ]
  },
  {
   "cell_type": "code",
   "execution_count": 38,
   "id": "8b0fa7c8",
   "metadata": {},
   "outputs": [],
   "source": [
    "def curr_man(current_man):\n",
    "    if current_man<1:\n",
    "        return 'Less than 1'\n",
    "    elif current_man<3:\n",
    "        return 'More than 1 but less than 3'\n",
    "    elif current_man<7:\n",
    "        return 'More than 3 but less than 7'\n",
    "    else:\n",
    "        return 'More 7 years'"
   ]
  },
  {
   "cell_type": "code",
   "execution_count": 39,
   "id": "f238db91",
   "metadata": {},
   "outputs": [],
   "source": [
    "df['YearsCurrentMan_Cat']=df['YearsWithCurrManager'].apply(curr_man)"
   ]
  },
  {
   "cell_type": "code",
   "execution_count": 40,
   "id": "ad84156a",
   "metadata": {},
   "outputs": [
    {
     "data": {
      "text/html": [
       "<div>\n",
       "<style scoped>\n",
       "    .dataframe tbody tr th:only-of-type {\n",
       "        vertical-align: middle;\n",
       "    }\n",
       "\n",
       "    .dataframe tbody tr th {\n",
       "        vertical-align: top;\n",
       "    }\n",
       "\n",
       "    .dataframe thead th {\n",
       "        text-align: right;\n",
       "    }\n",
       "</style>\n",
       "<table border=\"1\" class=\"dataframe\">\n",
       "  <thead>\n",
       "    <tr style=\"text-align: right;\">\n",
       "      <th></th>\n",
       "      <th>Age</th>\n",
       "      <th>Attrition</th>\n",
       "      <th>BusinessTravel</th>\n",
       "      <th>Department</th>\n",
       "      <th>DistanceFromHome</th>\n",
       "      <th>Education</th>\n",
       "      <th>EducationField</th>\n",
       "      <th>Gender</th>\n",
       "      <th>JobLevel</th>\n",
       "      <th>JobRole</th>\n",
       "      <th>...</th>\n",
       "      <th>YearsSinceLastPromotion</th>\n",
       "      <th>YearsWithCurrManager</th>\n",
       "      <th>EnvironmentSatisfaction</th>\n",
       "      <th>JobSatisfaction</th>\n",
       "      <th>WorkLifeBalance</th>\n",
       "      <th>JobInvolvement</th>\n",
       "      <th>PerformanceRating</th>\n",
       "      <th>Workex_classes</th>\n",
       "      <th>LatPromCat</th>\n",
       "      <th>YearsCurrentMan_Cat</th>\n",
       "    </tr>\n",
       "  </thead>\n",
       "  <tbody>\n",
       "    <tr>\n",
       "      <th>0</th>\n",
       "      <td>51</td>\n",
       "      <td>No</td>\n",
       "      <td>Travel_Rarely</td>\n",
       "      <td>Sales</td>\n",
       "      <td>6</td>\n",
       "      <td>2</td>\n",
       "      <td>Life Sciences</td>\n",
       "      <td>Female</td>\n",
       "      <td>1</td>\n",
       "      <td>Healthcare Representative</td>\n",
       "      <td>...</td>\n",
       "      <td>0</td>\n",
       "      <td>0</td>\n",
       "      <td>3.0</td>\n",
       "      <td>4.0</td>\n",
       "      <td>2.0</td>\n",
       "      <td>3</td>\n",
       "      <td>3</td>\n",
       "      <td>Less than 5</td>\n",
       "      <td>Less than 1</td>\n",
       "      <td>Less than 1</td>\n",
       "    </tr>\n",
       "    <tr>\n",
       "      <th>1</th>\n",
       "      <td>31</td>\n",
       "      <td>Yes</td>\n",
       "      <td>Travel_Frequently</td>\n",
       "      <td>Research &amp; Development</td>\n",
       "      <td>10</td>\n",
       "      <td>1</td>\n",
       "      <td>Life Sciences</td>\n",
       "      <td>Female</td>\n",
       "      <td>1</td>\n",
       "      <td>Research Scientist</td>\n",
       "      <td>...</td>\n",
       "      <td>1</td>\n",
       "      <td>4</td>\n",
       "      <td>3.0</td>\n",
       "      <td>2.0</td>\n",
       "      <td>4.0</td>\n",
       "      <td>2</td>\n",
       "      <td>4</td>\n",
       "      <td>More than 5 but less than 10</td>\n",
       "      <td>More than 1 but less than 2</td>\n",
       "      <td>More than 3 but less than 7</td>\n",
       "    </tr>\n",
       "    <tr>\n",
       "      <th>2</th>\n",
       "      <td>32</td>\n",
       "      <td>No</td>\n",
       "      <td>Travel_Frequently</td>\n",
       "      <td>Research &amp; Development</td>\n",
       "      <td>17</td>\n",
       "      <td>4</td>\n",
       "      <td>Other</td>\n",
       "      <td>Male</td>\n",
       "      <td>4</td>\n",
       "      <td>Sales Executive</td>\n",
       "      <td>...</td>\n",
       "      <td>0</td>\n",
       "      <td>3</td>\n",
       "      <td>2.0</td>\n",
       "      <td>2.0</td>\n",
       "      <td>1.0</td>\n",
       "      <td>3</td>\n",
       "      <td>3</td>\n",
       "      <td>More than 5 but less than 10</td>\n",
       "      <td>Less than 1</td>\n",
       "      <td>More than 3 but less than 7</td>\n",
       "    </tr>\n",
       "    <tr>\n",
       "      <th>3</th>\n",
       "      <td>38</td>\n",
       "      <td>No</td>\n",
       "      <td>Non-Travel</td>\n",
       "      <td>Research &amp; Development</td>\n",
       "      <td>2</td>\n",
       "      <td>5</td>\n",
       "      <td>Life Sciences</td>\n",
       "      <td>Male</td>\n",
       "      <td>3</td>\n",
       "      <td>Human Resources</td>\n",
       "      <td>...</td>\n",
       "      <td>7</td>\n",
       "      <td>5</td>\n",
       "      <td>4.0</td>\n",
       "      <td>4.0</td>\n",
       "      <td>3.0</td>\n",
       "      <td>2</td>\n",
       "      <td>3</td>\n",
       "      <td>More than 10 but less than 15</td>\n",
       "      <td>More 15</td>\n",
       "      <td>More than 3 but less than 7</td>\n",
       "    </tr>\n",
       "    <tr>\n",
       "      <th>4</th>\n",
       "      <td>32</td>\n",
       "      <td>No</td>\n",
       "      <td>Travel_Rarely</td>\n",
       "      <td>Research &amp; Development</td>\n",
       "      <td>10</td>\n",
       "      <td>1</td>\n",
       "      <td>Medical</td>\n",
       "      <td>Male</td>\n",
       "      <td>1</td>\n",
       "      <td>Sales Executive</td>\n",
       "      <td>...</td>\n",
       "      <td>0</td>\n",
       "      <td>4</td>\n",
       "      <td>4.0</td>\n",
       "      <td>1.0</td>\n",
       "      <td>3.0</td>\n",
       "      <td>3</td>\n",
       "      <td>3</td>\n",
       "      <td>More than 5 but less than 10</td>\n",
       "      <td>Less than 1</td>\n",
       "      <td>More than 3 but less than 7</td>\n",
       "    </tr>\n",
       "  </tbody>\n",
       "</table>\n",
       "<p>5 rows × 29 columns</p>\n",
       "</div>"
      ],
      "text/plain": [
       "   Age Attrition     BusinessTravel              Department  DistanceFromHome  \\\n",
       "0   51        No      Travel_Rarely                   Sales                 6   \n",
       "1   31       Yes  Travel_Frequently  Research & Development                10   \n",
       "2   32        No  Travel_Frequently  Research & Development                17   \n",
       "3   38        No         Non-Travel  Research & Development                 2   \n",
       "4   32        No      Travel_Rarely  Research & Development                10   \n",
       "\n",
       "   Education EducationField  Gender  JobLevel                    JobRole  ...  \\\n",
       "0          2  Life Sciences  Female         1  Healthcare Representative  ...   \n",
       "1          1  Life Sciences  Female         1         Research Scientist  ...   \n",
       "2          4          Other    Male         4            Sales Executive  ...   \n",
       "3          5  Life Sciences    Male         3            Human Resources  ...   \n",
       "4          1        Medical    Male         1            Sales Executive  ...   \n",
       "\n",
       "  YearsSinceLastPromotion  YearsWithCurrManager  EnvironmentSatisfaction  \\\n",
       "0                       0                     0                      3.0   \n",
       "1                       1                     4                      3.0   \n",
       "2                       0                     3                      2.0   \n",
       "3                       7                     5                      4.0   \n",
       "4                       0                     4                      4.0   \n",
       "\n",
       "   JobSatisfaction  WorkLifeBalance  JobInvolvement  PerformanceRating  \\\n",
       "0              4.0              2.0               3                  3   \n",
       "1              2.0              4.0               2                  4   \n",
       "2              2.0              1.0               3                  3   \n",
       "3              4.0              3.0               2                  3   \n",
       "4              1.0              3.0               3                  3   \n",
       "\n",
       "                  Workex_classes                   LatPromCat  \\\n",
       "0                    Less than 5                  Less than 1   \n",
       "1   More than 5 but less than 10  More than 1 but less than 2   \n",
       "2   More than 5 but less than 10                  Less than 1   \n",
       "3  More than 10 but less than 15                      More 15   \n",
       "4   More than 5 but less than 10                  Less than 1   \n",
       "\n",
       "           YearsCurrentMan_Cat  \n",
       "0                  Less than 1  \n",
       "1  More than 3 but less than 7  \n",
       "2  More than 3 but less than 7  \n",
       "3  More than 3 but less than 7  \n",
       "4  More than 3 but less than 7  \n",
       "\n",
       "[5 rows x 29 columns]"
      ]
     },
     "execution_count": 40,
     "metadata": {},
     "output_type": "execute_result"
    }
   ],
   "source": [
    "df.head()"
   ]
  },
  {
   "cell_type": "markdown",
   "id": "fa2a97f5",
   "metadata": {},
   "source": [
    "# Bucketing Percent Salary Hike"
   ]
  },
  {
   "cell_type": "code",
   "execution_count": 43,
   "id": "eb2f90bc",
   "metadata": {},
   "outputs": [
    {
     "data": {
      "text/plain": [
       "count    4362.000000\n",
       "mean       15.202201\n",
       "std         3.652645\n",
       "min        11.000000\n",
       "25%        12.000000\n",
       "50%        14.000000\n",
       "75%        18.000000\n",
       "max        25.000000\n",
       "Name: PercentSalaryHike, dtype: float64"
      ]
     },
     "execution_count": 43,
     "metadata": {},
     "output_type": "execute_result"
    }
   ],
   "source": [
    "df['PercentSalaryHike'].describe()"
   ]
  },
  {
   "cell_type": "code",
   "execution_count": 44,
   "id": "8a11db0d",
   "metadata": {},
   "outputs": [],
   "source": [
    "def hike(rate):\n",
    "    if rate<15:\n",
    "        return '10% to 14%'\n",
    "    elif rate<20:\n",
    "        return '15% to 19%'\n",
    "    else:\n",
    "        return '>20%'"
   ]
  },
  {
   "cell_type": "code",
   "execution_count": 45,
   "id": "60279d21",
   "metadata": {},
   "outputs": [],
   "source": [
    "df['Hike_Class']=df['PercentSalaryHike'].apply(hike)"
   ]
  },
  {
   "cell_type": "code",
   "execution_count": 46,
   "id": "e71094a7",
   "metadata": {},
   "outputs": [],
   "source": [
    "df.to_csv(\"updated_file.csv\")"
   ]
  }
 ],
 "metadata": {
  "kernelspec": {
   "display_name": "Python 3 (ipykernel)",
   "language": "python",
   "name": "python3"
  },
  "language_info": {
   "codemirror_mode": {
    "name": "ipython",
    "version": 3
   },
   "file_extension": ".py",
   "mimetype": "text/x-python",
   "name": "python",
   "nbconvert_exporter": "python",
   "pygments_lexer": "ipython3",
   "version": "3.10.9"
  }
 },
 "nbformat": 4,
 "nbformat_minor": 5
}
